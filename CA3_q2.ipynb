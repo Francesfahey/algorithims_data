{
  "nbformat": 4,
  "nbformat_minor": 0,
  "metadata": {
    "colab": {
      "provenance": [],
      "authorship_tag": "ABX9TyPueJC2wOOalCWtxQARMD1L",
      "include_colab_link": true
    },
    "kernelspec": {
      "name": "python3",
      "display_name": "Python 3"
    },
    "language_info": {
      "name": "python"
    }
  },
  "cells": [
    {
      "cell_type": "markdown",
      "metadata": {
        "id": "view-in-github",
        "colab_type": "text"
      },
      "source": [
        "<a href=\"https://colab.research.google.com/github/Francesfahey/algorithims_data/blob/main/CA3_q2.ipynb\" target=\"_parent\"><img src=\"https://colab.research.google.com/assets/colab-badge.svg\" alt=\"Open In Colab\"/></a>"
      ]
    },
    {
      "cell_type": "code",
      "execution_count": 1,
      "metadata": {
        "colab": {
          "base_uri": "https://localhost:8080/"
        },
        "id": "zowLrxCJ0Cd_",
        "outputId": "cfbeedd9-d18a-409d-96ca-73d4f8d8418c"
      },
      "outputs": [
        {
          "output_type": "stream",
          "name": "stdout",
          "text": [
            "                     child_mort  exports  health  imports  income  inflation  \\\n",
            "country                                                                        \n",
            "Afghanistan                90.2     10.0    7.58     44.9    1610       9.44   \n",
            "Albania                    16.6     28.0    6.55     48.6    9930       4.49   \n",
            "Algeria                    27.3     38.4    4.17     31.4   12900      16.10   \n",
            "Angola                    119.0     62.3    2.85     42.9    5900      22.40   \n",
            "Antigua and Barbuda        10.3     45.5    6.03     58.9   19100       1.44   \n",
            "\n",
            "                     life_expec  total_fer   gdpp  \n",
            "country                                            \n",
            "Afghanistan                56.2       5.82    553  \n",
            "Albania                    76.3       1.65   4090  \n",
            "Algeria                    76.5       2.89   4460  \n",
            "Angola                     60.1       6.16   3530  \n",
            "Antigua and Barbuda        76.8       2.13  12200  \n"
          ]
        }
      ],
      "source": [
        "import pandas as pd\n",
        "country_df = pd.read_csv('https://raw.githubusercontent.com/Francesfahey/algorithims_data/main/Country-data.csv', index_col=0)\n",
        "print(country_df.head())\n"
      ]
    }
  ]
}